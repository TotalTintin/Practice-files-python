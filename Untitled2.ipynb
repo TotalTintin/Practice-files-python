{
 "cells": [
  {
   "cell_type": "code",
   "execution_count": 1,
   "id": "9dbef21d",
   "metadata": {},
   "outputs": [
    {
     "name": "stdout",
     "output_type": "stream",
     "text": [
      "How much do you need?2\n",
      "your total is  80\n"
     ]
    }
   ],
   "source": [
    "#Q1\n",
    "units = int(input(\"How much do you need?\"))\n",
    "x = units * 40\n",
    "z = int ((15/100)* x)\n",
    "y = x - z\n",
    "\n",
    "if x <= 100:\n",
    "    print(\"your total is \",x)\n",
    "elif x >= 100:\n",
    "    print(\"your total is \",y,\" with a 15% discount.\")\n",
    "else:\n",
    "    print(\"invalid value\")"
   ]
  },
  {
   "cell_type": "code",
   "execution_count": 6,
   "id": "ac475dec",
   "metadata": {},
   "outputs": [
    {
     "name": "stdout",
     "output_type": "stream",
     "text": [
      "Please enter your marks80\n",
      "B\n"
     ]
    }
   ],
   "source": [
    "#Q2\n",
    "units = int(input(\"Please enter your marks\"))\n",
    "\n",
    "if units < 25:\n",
    "    print(\"F\")\n",
    "elif units <= 45:\n",
    "    print(\"E\")\n",
    "elif units <= 50:\n",
    "    print(\"D\")\n",
    "elif units <= 60:\n",
    "    print(\"C\")\n",
    "elif units <= 80:\n",
    "    print(\"B\")\n",
    "elif units > 80:\n",
    "    print(\"A\")"
   ]
  },
  {
   "cell_type": "code",
   "execution_count": 50,
   "id": "3d8e1f40",
   "metadata": {},
   "outputs": [
    {
     "name": "stdout",
     "output_type": "stream",
     "text": [
      "What is your number?23\n",
      "Your last digit is divisable by 3\n"
     ]
    }
   ],
   "source": [
    "#Q3\n",
    "num=int(input(\"What is your number?\"))\n",
    "last=num%10\n",
    "if(last%3==0):\n",
    "    print(\"Your last digit is divisable by 3\")\n",
    "else:\n",
    "    print(\"Your last digit is not divisable by 3\")\n"
   ]
  },
  {
   "cell_type": "code",
   "execution_count": null,
   "id": "a7988340",
   "metadata": {},
   "outputs": [],
   "source": []
  },
  {
   "cell_type": "code",
   "execution_count": null,
   "id": "fd7ee9df",
   "metadata": {},
   "outputs": [],
   "source": []
  },
  {
   "cell_type": "code",
   "execution_count": null,
   "id": "b328fbce",
   "metadata": {},
   "outputs": [],
   "source": []
  }
 ],
 "metadata": {
  "kernelspec": {
   "display_name": "Python 3 (ipykernel)",
   "language": "python",
   "name": "python3"
  },
  "language_info": {
   "codemirror_mode": {
    "name": "ipython",
    "version": 3
   },
   "file_extension": ".py",
   "mimetype": "text/x-python",
   "name": "python",
   "nbconvert_exporter": "python",
   "pygments_lexer": "ipython3",
   "version": "3.9.12"
  }
 },
 "nbformat": 4,
 "nbformat_minor": 5
}
