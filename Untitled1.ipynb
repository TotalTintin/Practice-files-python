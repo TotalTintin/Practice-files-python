{
 "cells": [
  {
   "cell_type": "code",
   "execution_count": 23,
   "id": "ffbc345b",
   "metadata": {},
   "outputs": [
    {
     "name": "stdout",
     "output_type": "stream",
     "text": [
      "4\n",
      "3\n",
      "2\n",
      "1\n",
      "0\n",
      "Happy new year!\n"
     ]
    }
   ],
   "source": [
    "count = 5\n",
    "while count <= 5 and count > 0:\n",
    "    count = count - 1\n",
    "    print(count)\n",
    "print(\"Happy new year!\")"
   ]
  },
  {
   "cell_type": "code",
   "execution_count": null,
   "id": "d7f1595c",
   "metadata": {},
   "outputs": [],
   "source": []
  },
  {
   "cell_type": "code",
   "execution_count": null,
   "id": "a9145225",
   "metadata": {},
   "outputs": [],
   "source": []
  },
  {
   "cell_type": "code",
   "execution_count": null,
   "id": "05172315",
   "metadata": {},
   "outputs": [],
   "source": []
  }
 ],
 "metadata": {
  "kernelspec": {
   "display_name": "Python 3 (ipykernel)",
   "language": "python",
   "name": "python3"
  },
  "language_info": {
   "codemirror_mode": {
    "name": "ipython",
    "version": 3
   },
   "file_extension": ".py",
   "mimetype": "text/x-python",
   "name": "python",
   "nbconvert_exporter": "python",
   "pygments_lexer": "ipython3",
   "version": "3.9.12"
  }
 },
 "nbformat": 4,
 "nbformat_minor": 5
}
