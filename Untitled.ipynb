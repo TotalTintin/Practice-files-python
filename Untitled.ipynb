{
 "cells": [
  {
   "cell_type": "code",
   "execution_count": 11,
   "id": "52cb874a",
   "metadata": {},
   "outputs": [
    {
     "name": "stdout",
     "output_type": "stream",
     "text": [
      "how much do you need?2\n",
      "your total is 80\n"
     ]
    }
   ],
   "source": [
    "units = int(input(\"how much do you need?\"))\n",
    "x = units * 40\n",
    "z = int ((15/100) * x)\n",
    "y= x - z\n",
    "\n",
    "if x <= 100:\n",
    "    print(\"your total is\" , x )\n",
    "elif x >= 100:\n",
    "    print(\"your total is \",y ,\"with a 15% discount\")\n",
    "else:\n",
    "     print(\"invalid value\")\n",
    "    \n"
   ]
  },
  {
   "cell_type": "code",
   "execution_count": 24,
   "id": "e7f28d2c",
   "metadata": {},
   "outputs": [
    {
     "name": "stdout",
     "output_type": "stream",
     "text": [
      "Please enter your marks80\n",
      "B\n"
     ]
    }
   ],
   "source": [
    "units= int(input(\"Please enter your marks\"))\n",
    "\n",
    "if units < 25:\n",
    "    print(\"F\")\n",
    "elif units <= 45:\n",
    "    print(\"E\")\n",
    "elif units <= 50: \n",
    "    print(\"D\")\n",
    "elif units <= 60:\n",
    "    print(\"c\")\n",
    "elif units <=80:\n",
    "    print(\"B\")\n",
    "elif units > 80 :\n",
    "    print(\"A\")\n",
    "else:\n",
    "    print(\"invalid\")\n",
    "    "
   ]
  },
  {
   "cell_type": "code",
   "execution_count": 25,
   "id": "9d5c82e7",
   "metadata": {},
   "outputs": [
    {
     "name": "stdout",
     "output_type": "stream",
     "text": [
      "Your Grade is C2\n"
     ]
    }
   ],
   "source": [
    "if avg>=91 and avg<=100:\n",
    "    print(\"Your Grade is A1\")\n",
    "elif avg>=81 and avg<91:\n",
    "    print(\"Your Grade is A2\")\n",
    "elif avg>=71 and avg<81:\n",
    "    print(\"Your Grade is B1\")\n",
    "elif avg>=61 and avg<71:\n",
    "    print(\"Your Grade is B2\")\n",
    "elif avg>=51 and avg<61:\n",
    "    print(\"Your Grade is C1\")\n",
    "elif avg>=41 and avg<51:\n",
    "    print(\"Your Grade is C2\")\n",
    "elif avg>=33 and avg<41:\n",
    "    print(\"Your Grade is D\")\n",
    "elif avg>=21 and avg<33:\n",
    "    print(\"Your Grade is E1\")\n",
    "elif avg>=0 and avg<21:\n",
    "    print(\"Your Grade is E2\")\n",
    "else:\n",
    "    print(\"Invalid Input!\")"
   ]
  },
  {
   "cell_type": "code",
   "execution_count": 18,
   "id": "88269f53",
   "metadata": {},
   "outputs": [
    {
     "name": "stdout",
     "output_type": "stream",
     "text": [
      "Enter Marks Obtained in 5 Subjects: \n",
      "60\n",
      "50\n",
      "45\n",
      "45\n",
      "45\n",
      "Your Grade is C2\n"
     ]
    }
   ],
   "source": [
    "print(\"Enter Marks Obtained in 5 Subjects: \")\n",
    "markOne = int(input())\n",
    "markTwo = int(input())\n",
    "markThree = int(input())\n",
    "markFour = int(input())\n",
    "markFive = int(input())\n",
    "\n",
    "tot = markOne+markTwo+markThree+markFour+markFive\n",
    "avg = tot/5\n",
    "\n",
    "if avg>=91 and avg<=100:\n",
    "    print(\"Your Grade is A1\")\n",
    "elif avg>=81 and avg<91:\n",
    "    print(\"Your Grade is A2\")\n",
    "elif avg>=71 and avg<81:\n",
    "    print(\"Your Grade is B1\")\n",
    "elif avg>=61 and avg<71:\n",
    "    print(\"Your Grade is B2\")\n",
    "elif avg>=51 and avg<61:\n",
    "    print(\"Your Grade is C1\")\n",
    "elif avg>=41 and avg<51:\n",
    "    print(\"Your Grade is C2\")\n",
    "elif avg>=33 and avg<41:\n",
    "    print(\"Your Grade is D\")\n",
    "elif avg>=21 and avg<33:\n",
    "    print(\"Your Grade is E1\")\n",
    "elif avg>=0 and avg<21:\n",
    "    print(\"Your Grade is E2\")\n",
    "else:\n",
    "    print(\"Invalid Input!\")"
   ]
  },
  {
   "cell_type": "code",
   "execution_count": null,
   "id": "c929bfea",
   "metadata": {
    "scrolled": true
   },
   "outputs": [],
   "source": [
    "units= str(input(\"Please enter number\"))\n",
    "print(units[:1])"
   ]
  },
  {
   "cell_type": "code",
   "execution_count": null,
   "id": "37290d05",
   "metadata": {},
   "outputs": [],
   "source": []
  },
  {
   "cell_type": "code",
   "execution_count": null,
   "id": "7c6bc7d2",
   "metadata": {},
   "outputs": [],
   "source": []
  }
 ],
 "metadata": {
  "kernelspec": {
   "display_name": "Python 3 (ipykernel)",
   "language": "python",
   "name": "python3"
  },
  "language_info": {
   "codemirror_mode": {
    "name": "ipython",
    "version": 3
   },
   "file_extension": ".py",
   "mimetype": "text/x-python",
   "name": "python",
   "nbconvert_exporter": "python",
   "pygments_lexer": "ipython3",
   "version": "3.9.12"
  }
 },
 "nbformat": 4,
 "nbformat_minor": 5
}
