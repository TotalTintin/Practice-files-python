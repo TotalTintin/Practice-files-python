{
 "cells": [
  {
   "cell_type": "code",
   "execution_count": 1,
   "id": "e6e058d2",
   "metadata": {},
   "outputs": [
    {
     "name": "stdout",
     "output_type": "stream",
     "text": [
      "['Davis', 'Belinda', 'Kate']\n"
     ]
    }
   ],
   "source": [
    "#Q1\n",
    "Team = [\"Davis\",\"Belinda\",\"sean\",\"Kate\"]\n",
    "Team.remove(\"sean\")\n",
    "print(Team)\n"
   ]
  },
  {
   "cell_type": "code",
   "execution_count": 2,
   "id": "fa30140c",
   "metadata": {},
   "outputs": [
    {
     "data": {
      "text/plain": [
       "['Kampala', 'Wellington', 'Paris']"
      ]
     },
     "execution_count": 2,
     "metadata": {},
     "output_type": "execute_result"
    }
   ],
   "source": [
    "cities = [\"Kampala\", \"Wellington\", \"Paris\"]\n",
    "cities.copy()\n"
   ]
  },
  {
   "cell_type": "code",
   "execution_count": 21,
   "id": "b9b13316",
   "metadata": {},
   "outputs": [
    {
     "name": "stdout",
     "output_type": "stream",
     "text": [
      "1\n",
      "4\n",
      "9\n",
      "16\n",
      "25\n"
     ]
    }
   ],
   "source": [
    "#Q2\n",
    "numbers=[1,2,3,4,5]\n",
    "for v in numbers:\n",
    "    print (v**2)"
   ]
  },
  {
   "cell_type": "code",
   "execution_count": 18,
   "id": "58a570fc",
   "metadata": {},
   "outputs": [
    {
     "name": "stdout",
     "output_type": "stream",
     "text": [
      "['soda', 'juice', 'water']\n"
     ]
    }
   ],
   "source": [
    "#Q3\n",
    "liquids =[\"water\",\"juice\",\"soda\"]\n",
    "liquids.reverse()\n",
    "print(liquids)\n"
   ]
  },
  {
   "cell_type": "code",
   "execution_count": 11,
   "id": "a7617559",
   "metadata": {},
   "outputs": [
    {
     "name": "stdout",
     "output_type": "stream",
     "text": [
      "{1: 10, 2: 20, 3: 30, 4: 40, 5: 50, 6: 60}\n"
     ]
    }
   ],
   "source": [
    "#QB\n",
    "dic1={1:10,2:20}\n",
    "dic2={3:30,4:40}\n",
    "dic3={5:50,6:60}\n",
    "dic1.update(dic2)\n",
    "dic1.update(dic3)\n",
    "print(dic1)"
   ]
  },
  {
   "cell_type": "code",
   "execution_count": null,
   "id": "fd9febc5",
   "metadata": {},
   "outputs": [],
   "source": []
  }
 ],
 "metadata": {
  "kernelspec": {
   "display_name": "Python 3 (ipykernel)",
   "language": "python",
   "name": "python3"
  },
  "language_info": {
   "codemirror_mode": {
    "name": "ipython",
    "version": 3
   },
   "file_extension": ".py",
   "mimetype": "text/x-python",
   "name": "python",
   "nbconvert_exporter": "python",
   "pygments_lexer": "ipython3",
   "version": "3.9.12"
  }
 },
 "nbformat": 4,
 "nbformat_minor": 5
}
